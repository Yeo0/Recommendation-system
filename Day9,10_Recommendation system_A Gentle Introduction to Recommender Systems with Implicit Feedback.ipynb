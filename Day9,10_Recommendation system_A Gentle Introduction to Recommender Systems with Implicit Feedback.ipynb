{
 "cells": [
  {
   "cell_type": "markdown",
   "metadata": {},
   "source": [
    "## A Gentle Introduction to Recommender Systems with Implicit Feedback\n"
   ]
  },
  {
   "cell_type": "markdown",
   "metadata": {},
   "source": [
    "https://nbviewer.jupyter.org/github/jmsteinw/Notebooks/blob/master/RecEngine_NB.ipynb"
   ]
  },
  {
   "cell_type": "markdown",
   "metadata": {},
   "source": [
    "### Part1: introdiction"
   ]
  },
  {
   "cell_type": "code",
   "execution_count": 2,
   "metadata": {},
   "outputs": [
    {
     "data": {
      "text/html": [
       "\n",
       "        <iframe\n",
       "            width=\"400\"\n",
       "            height=\"300\"\n",
       "            src=\"https://www.youtube.com/embed/bLhq63ygoU8\"\n",
       "            frameborder=\"0\"\n",
       "            allowfullscreen\n",
       "        ></iframe>\n",
       "        "
      ],
      "text/plain": [
       "<IPython.lib.display.YouTubeVideo at 0x104fab5f8>"
      ]
     },
     "execution_count": 2,
     "metadata": {},
     "output_type": "execute_result"
    }
   ],
   "source": [
    "from IPython.display import YouTubeVideo\n",
    "YouTubeVideo('bLhq63ygoU8')"
   ]
  },
  {
   "cell_type": "markdown",
   "metadata": {},
   "source": [
    "##### Content Based (Pandora)\n",
    "In the case of Pandora, the online streaming music company, they decided to engineer features from all of the songs in their catalog as part of the Music Genome Project. Most songs are based on a feature vector of approximately 450 features, which were derived in a very long and arduous process. Once you have this feature set, one technique that works well enough is to treat the recommendation problem as a binary classification problem. This allows one to use more traditional machine learning techniques that output a probability for a certain user to like a specific song based on a training set of their song listening history. Then, simply recommend the songs with the greatest probability of being liked.\n",
    "\n",
    "Most of the time, however, you aren't going to have features already encoded for all of your products. This would be very difficult, and it took Pandora several years to finish so it probably won't be a great option.\n",
    "\n",
    "##### Demographic Based (Facebook)\n",
    "If you have a lot of demographic information about your users like Facebook or LinkedIn does, you may be able to recommend based on similar users and their past behavior. Similar to the content based method, you could derive a feature vector for each of your users and generate models that predict probabilities of liking certain items.\n",
    "\n",
    "Again, this requires a lot of information about your users that you probably don't have in most cases.\n",
    "\n",
    "So if you need a method that doesn't care about detailed information regarding your items or your users, collaborative filtering is a very powerful method that works with surprising efficacy."
   ]
  },
  {
   "cell_type": "markdown",
   "metadata": {},
   "source": [
    "### Part2:Processing the Data"
   ]
  },
  {
   "cell_type": "code",
   "execution_count": 1,
   "metadata": {},
   "outputs": [],
   "source": [
    "import pandas as pd\n",
    "import scipy.sparse as sparse\n",
    "import numpy as np\n",
    "from scipy.sparse.linalg import spsolve\n"
   ]
  },
  {
   "cell_type": "code",
   "execution_count": 2,
   "metadata": {},
   "outputs": [],
   "source": [
    "website_url = 'http://archive.ics.uci.edu/ml/machine-learning-databases/00352/Online%20Retail.xlsx'\n",
    "retail_data = pd.read_excel(website_url)"
   ]
  },
  {
   "cell_type": "code",
   "execution_count": 3,
   "metadata": {},
   "outputs": [
    {
     "data": {
      "text/html": [
       "<div>\n",
       "<style scoped>\n",
       "    .dataframe tbody tr th:only-of-type {\n",
       "        vertical-align: middle;\n",
       "    }\n",
       "\n",
       "    .dataframe tbody tr th {\n",
       "        vertical-align: top;\n",
       "    }\n",
       "\n",
       "    .dataframe thead th {\n",
       "        text-align: right;\n",
       "    }\n",
       "</style>\n",
       "<table border=\"1\" class=\"dataframe\">\n",
       "  <thead>\n",
       "    <tr style=\"text-align: right;\">\n",
       "      <th></th>\n",
       "      <th>InvoiceNo</th>\n",
       "      <th>StockCode</th>\n",
       "      <th>Description</th>\n",
       "      <th>Quantity</th>\n",
       "      <th>InvoiceDate</th>\n",
       "      <th>UnitPrice</th>\n",
       "      <th>CustomerID</th>\n",
       "      <th>Country</th>\n",
       "    </tr>\n",
       "  </thead>\n",
       "  <tbody>\n",
       "    <tr>\n",
       "      <th>0</th>\n",
       "      <td>536365</td>\n",
       "      <td>85123A</td>\n",
       "      <td>WHITE HANGING HEART T-LIGHT HOLDER</td>\n",
       "      <td>6</td>\n",
       "      <td>2010-12-01 08:26:00</td>\n",
       "      <td>2.55</td>\n",
       "      <td>17850.0</td>\n",
       "      <td>United Kingdom</td>\n",
       "    </tr>\n",
       "    <tr>\n",
       "      <th>1</th>\n",
       "      <td>536365</td>\n",
       "      <td>71053</td>\n",
       "      <td>WHITE METAL LANTERN</td>\n",
       "      <td>6</td>\n",
       "      <td>2010-12-01 08:26:00</td>\n",
       "      <td>3.39</td>\n",
       "      <td>17850.0</td>\n",
       "      <td>United Kingdom</td>\n",
       "    </tr>\n",
       "    <tr>\n",
       "      <th>2</th>\n",
       "      <td>536365</td>\n",
       "      <td>84406B</td>\n",
       "      <td>CREAM CUPID HEARTS COAT HANGER</td>\n",
       "      <td>8</td>\n",
       "      <td>2010-12-01 08:26:00</td>\n",
       "      <td>2.75</td>\n",
       "      <td>17850.0</td>\n",
       "      <td>United Kingdom</td>\n",
       "    </tr>\n",
       "    <tr>\n",
       "      <th>3</th>\n",
       "      <td>536365</td>\n",
       "      <td>84029G</td>\n",
       "      <td>KNITTED UNION FLAG HOT WATER BOTTLE</td>\n",
       "      <td>6</td>\n",
       "      <td>2010-12-01 08:26:00</td>\n",
       "      <td>3.39</td>\n",
       "      <td>17850.0</td>\n",
       "      <td>United Kingdom</td>\n",
       "    </tr>\n",
       "    <tr>\n",
       "      <th>4</th>\n",
       "      <td>536365</td>\n",
       "      <td>84029E</td>\n",
       "      <td>RED WOOLLY HOTTIE WHITE HEART.</td>\n",
       "      <td>6</td>\n",
       "      <td>2010-12-01 08:26:00</td>\n",
       "      <td>3.39</td>\n",
       "      <td>17850.0</td>\n",
       "      <td>United Kingdom</td>\n",
       "    </tr>\n",
       "  </tbody>\n",
       "</table>\n",
       "</div>"
      ],
      "text/plain": [
       "  InvoiceNo StockCode                          Description  Quantity  \\\n",
       "0    536365    85123A   WHITE HANGING HEART T-LIGHT HOLDER         6   \n",
       "1    536365     71053                  WHITE METAL LANTERN         6   \n",
       "2    536365    84406B       CREAM CUPID HEARTS COAT HANGER         8   \n",
       "3    536365    84029G  KNITTED UNION FLAG HOT WATER BOTTLE         6   \n",
       "4    536365    84029E       RED WOOLLY HOTTIE WHITE HEART.         6   \n",
       "\n",
       "          InvoiceDate  UnitPrice  CustomerID         Country  \n",
       "0 2010-12-01 08:26:00       2.55     17850.0  United Kingdom  \n",
       "1 2010-12-01 08:26:00       3.39     17850.0  United Kingdom  \n",
       "2 2010-12-01 08:26:00       2.75     17850.0  United Kingdom  \n",
       "3 2010-12-01 08:26:00       3.39     17850.0  United Kingdom  \n",
       "4 2010-12-01 08:26:00       3.39     17850.0  United Kingdom  "
      ]
     },
     "execution_count": 3,
     "metadata": {},
     "output_type": "execute_result"
    }
   ],
   "source": [
    "retail_data.head()"
   ]
  },
  {
   "cell_type": "markdown",
   "metadata": {},
   "source": [
    "#### Description\n",
    "- invocieNo : invoice number for different purchases\n",
    "- StockCode : item ID\n",
    "- Description : item description\n",
    "- Quantity : the number purchased\n",
    "- InvoiceDate : the date of purchase\n",
    "- UnitPrice : the price of the items\n",
    "- CustomerID : a customer ID\n",
    "- Country : the country of origin for the customer."
   ]
  },
  {
   "cell_type": "code",
   "execution_count": 4,
   "metadata": {},
   "outputs": [
    {
     "name": "stdout",
     "output_type": "stream",
     "text": [
      "<class 'pandas.core.frame.DataFrame'>\n",
      "RangeIndex: 541909 entries, 0 to 541908\n",
      "Data columns (total 8 columns):\n",
      "InvoiceNo      541909 non-null object\n",
      "StockCode      541909 non-null object\n",
      "Description    540455 non-null object\n",
      "Quantity       541909 non-null int64\n",
      "InvoiceDate    541909 non-null datetime64[ns]\n",
      "UnitPrice      541909 non-null float64\n",
      "CustomerID     406829 non-null float64\n",
      "Country        541909 non-null object\n",
      "dtypes: datetime64[ns](1), float64(2), int64(1), object(4)\n",
      "memory usage: 33.1+ MB\n"
     ]
    }
   ],
   "source": [
    "retail_data.info()"
   ]
  },
  {
   "cell_type": "markdown",
   "metadata": {},
   "source": [
    "CustomerID에서 missing value를 찾을 수 있다. customerID가 없으면 특정 사용자와 아이템 간의 매칭이 불가능 하기 때문에 지우고, 값이 있는 데이터로만 추천을 진행한다."
   ]
  },
  {
   "cell_type": "code",
   "execution_count": 4,
   "metadata": {},
   "outputs": [],
   "source": [
    "cleaned_retail = retail_data.loc[pd.isnull(retail_data.CustomerID)==False]"
   ]
  },
  {
   "cell_type": "code",
   "execution_count": 6,
   "metadata": {},
   "outputs": [
    {
     "name": "stdout",
     "output_type": "stream",
     "text": [
      "<class 'pandas.core.frame.DataFrame'>\n",
      "Int64Index: 406829 entries, 0 to 541908\n",
      "Data columns (total 8 columns):\n",
      "InvoiceNo      406829 non-null object\n",
      "StockCode      406829 non-null object\n",
      "Description    406829 non-null object\n",
      "Quantity       406829 non-null int64\n",
      "InvoiceDate    406829 non-null datetime64[ns]\n",
      "UnitPrice      406829 non-null float64\n",
      "CustomerID     406829 non-null float64\n",
      "Country        406829 non-null object\n",
      "dtypes: datetime64[ns](1), float64(2), int64(1), object(4)\n",
      "memory usage: 27.9+ MB\n"
     ]
    }
   ],
   "source": [
    "cleaned_retail.info()"
   ]
  },
  {
   "cell_type": "markdown",
   "metadata": {},
   "source": [
    "rating matrix를 만들기 전에, 각 아이템과 아이템의 description을 이어주는 표를 하나 만들어 놓으면 보기 편할 것이다"
   ]
  },
  {
   "cell_type": "code",
   "execution_count": 5,
   "metadata": {},
   "outputs": [],
   "source": [
    "item_lookup = cleaned_retail[['StockCode','Description']].drop_duplicates()\n",
    "item_lookup['StockCode'] = item_lookup.StockCode.astype(str)"
   ]
  },
  {
   "cell_type": "code",
   "execution_count": 8,
   "metadata": {},
   "outputs": [
    {
     "data": {
      "text/html": [
       "<div>\n",
       "<style scoped>\n",
       "    .dataframe tbody tr th:only-of-type {\n",
       "        vertical-align: middle;\n",
       "    }\n",
       "\n",
       "    .dataframe tbody tr th {\n",
       "        vertical-align: top;\n",
       "    }\n",
       "\n",
       "    .dataframe thead th {\n",
       "        text-align: right;\n",
       "    }\n",
       "</style>\n",
       "<table border=\"1\" class=\"dataframe\">\n",
       "  <thead>\n",
       "    <tr style=\"text-align: right;\">\n",
       "      <th></th>\n",
       "      <th>StockCode</th>\n",
       "      <th>Description</th>\n",
       "    </tr>\n",
       "  </thead>\n",
       "  <tbody>\n",
       "    <tr>\n",
       "      <th>0</th>\n",
       "      <td>85123A</td>\n",
       "      <td>WHITE HANGING HEART T-LIGHT HOLDER</td>\n",
       "    </tr>\n",
       "    <tr>\n",
       "      <th>1</th>\n",
       "      <td>71053</td>\n",
       "      <td>WHITE METAL LANTERN</td>\n",
       "    </tr>\n",
       "    <tr>\n",
       "      <th>2</th>\n",
       "      <td>84406B</td>\n",
       "      <td>CREAM CUPID HEARTS COAT HANGER</td>\n",
       "    </tr>\n",
       "    <tr>\n",
       "      <th>3</th>\n",
       "      <td>84029G</td>\n",
       "      <td>KNITTED UNION FLAG HOT WATER BOTTLE</td>\n",
       "    </tr>\n",
       "    <tr>\n",
       "      <th>4</th>\n",
       "      <td>84029E</td>\n",
       "      <td>RED WOOLLY HOTTIE WHITE HEART.</td>\n",
       "    </tr>\n",
       "  </tbody>\n",
       "</table>\n",
       "</div>"
      ],
      "text/plain": [
       "  StockCode                          Description\n",
       "0    85123A   WHITE HANGING HEART T-LIGHT HOLDER\n",
       "1     71053                  WHITE METAL LANTERN\n",
       "2    84406B       CREAM CUPID HEARTS COAT HANGER\n",
       "3    84029G  KNITTED UNION FLAG HOT WATER BOTTLE\n",
       "4    84029E       RED WOOLLY HOTTIE WHITE HEART."
      ]
     },
     "execution_count": 8,
     "metadata": {},
     "output_type": "execute_result"
    }
   ],
   "source": [
    "item_lookup.head()"
   ]
  },
  {
   "cell_type": "markdown",
   "metadata": {},
   "source": [
    "What we need to:\n",
    "\n",
    "- Group purchase quantities together by stock code and item ID\n",
    "- Change any sums that equal zero to one (this can happen if items were returned, but we want to indicate that the user actually purchased the item instead of assuming no interaction between the user and the item ever took place)\n",
    "- Only include customers with a positive purchase total to eliminate possible errors\n",
    "- Set up our sparse ratings matrix\n"
   ]
  },
  {
   "cell_type": "code",
   "execution_count": 6,
   "metadata": {},
   "outputs": [
    {
     "name": "stderr",
     "output_type": "stream",
     "text": [
      "/home/yeoyoung/anaconda3/lib/python3.6/site-packages/ipykernel_launcher.py:1: SettingWithCopyWarning: \n",
      "A value is trying to be set on a copy of a slice from a DataFrame.\n",
      "Try using .loc[row_indexer,col_indexer] = value instead\n",
      "\n",
      "See the caveats in the documentation: http://pandas.pydata.org/pandas-docs/stable/indexing.html#indexing-view-versus-copy\n",
      "  \"\"\"Entry point for launching an IPython kernel.\n",
      "/home/yeoyoung/anaconda3/lib/python3.6/site-packages/pandas/core/indexing.py:189: SettingWithCopyWarning: \n",
      "A value is trying to be set on a copy of a slice from a DataFrame\n",
      "\n",
      "See the caveats in the documentation: http://pandas.pydata.org/pandas-docs/stable/indexing.html#indexing-view-versus-copy\n",
      "  self._setitem_with_indexer(indexer, value)\n"
     ]
    }
   ],
   "source": [
    "cleaned_retail['CustomerID'] = cleaned_retail.CustomerID.astype(int)\n",
    "cleaned_retail = cleaned_retail[['StockCode','Quantity', 'CustomerID']]\n",
    "grouped_cleaned = cleaned_retail.groupby(['CustomerID', 'StockCode']).sum().reset_index()\n",
    "grouped_cleaned.Quantity.loc[grouped_cleaned.Quantity == 0] = 1 #곱해질때 값이 0이 되는 것을 막기 위해\n",
    "grouped_purchased = grouped_cleaned.query('Quantity > 0')"
   ]
  },
  {
   "cell_type": "code",
   "execution_count": 10,
   "metadata": {},
   "outputs": [
    {
     "data": {
      "text/html": [
       "<div>\n",
       "<style scoped>\n",
       "    .dataframe tbody tr th:only-of-type {\n",
       "        vertical-align: middle;\n",
       "    }\n",
       "\n",
       "    .dataframe tbody tr th {\n",
       "        vertical-align: top;\n",
       "    }\n",
       "\n",
       "    .dataframe thead th {\n",
       "        text-align: right;\n",
       "    }\n",
       "</style>\n",
       "<table border=\"1\" class=\"dataframe\">\n",
       "  <thead>\n",
       "    <tr style=\"text-align: right;\">\n",
       "      <th></th>\n",
       "      <th>CustomerID</th>\n",
       "      <th>StockCode</th>\n",
       "      <th>Quantity</th>\n",
       "    </tr>\n",
       "  </thead>\n",
       "  <tbody>\n",
       "    <tr>\n",
       "      <th>0</th>\n",
       "      <td>12346</td>\n",
       "      <td>23166</td>\n",
       "      <td>1</td>\n",
       "    </tr>\n",
       "    <tr>\n",
       "      <th>1</th>\n",
       "      <td>12347</td>\n",
       "      <td>16008</td>\n",
       "      <td>24</td>\n",
       "    </tr>\n",
       "    <tr>\n",
       "      <th>2</th>\n",
       "      <td>12347</td>\n",
       "      <td>17021</td>\n",
       "      <td>36</td>\n",
       "    </tr>\n",
       "    <tr>\n",
       "      <th>3</th>\n",
       "      <td>12347</td>\n",
       "      <td>20665</td>\n",
       "      <td>6</td>\n",
       "    </tr>\n",
       "    <tr>\n",
       "      <th>4</th>\n",
       "      <td>12347</td>\n",
       "      <td>20719</td>\n",
       "      <td>40</td>\n",
       "    </tr>\n",
       "  </tbody>\n",
       "</table>\n",
       "</div>"
      ],
      "text/plain": [
       "   CustomerID StockCode  Quantity\n",
       "0       12346     23166         1\n",
       "1       12347     16008        24\n",
       "2       12347     17021        36\n",
       "3       12347     20665         6\n",
       "4       12347     20719        40"
      ]
     },
     "execution_count": 10,
     "metadata": {},
     "output_type": "execute_result"
    }
   ],
   "source": [
    "grouped_purchased.head()"
   ]
  },
  {
   "cell_type": "markdown",
   "metadata": {},
   "source": [
    "explicting rating을 사용하는 대신에, 구매량은 얼마나 유저와 강한 interection을 하는지 알려주는 일종의 'confidence'를 나타낸다.\n",
    "많은 양을 구매할수록 matrix of purchases에 더 많은 weight를 가지게 된다. "
   ]
  },
  {
   "cell_type": "code",
   "execution_count": 7,
   "metadata": {},
   "outputs": [
    {
     "name": "stderr",
     "output_type": "stream",
     "text": [
      "/home/yeoyoung/anaconda3/lib/python3.6/site-packages/ipykernel_launcher.py:5: FutureWarning: specifying 'categories' or 'ordered' in .astype() is deprecated; pass a CategoricalDtype instead\n",
      "  \"\"\"\n",
      "/home/yeoyoung/anaconda3/lib/python3.6/site-packages/ipykernel_launcher.py:6: FutureWarning: specifying 'categories' or 'ordered' in .astype() is deprecated; pass a CategoricalDtype instead\n",
      "  \n"
     ]
    }
   ],
   "source": [
    "customers = list(np.sort(grouped_purchased.CustomerID.unique()))\n",
    "products = list(grouped_purchased.StockCode.unique())\n",
    "quantity = list(grouped_purchased.Quantity)\n",
    "                 \n",
    "rows = grouped_purchased.CustomerID.astype('category', categories = customers).cat.codes #R의 factor\n",
    "cols = grouped_purchased.StockCode.astype('category', categories = products).cat.codes\n",
    "purchases_sparse = sparse.csr_matrix((quantity, (rows,cols)), shape=(len(customers), len(products)))"
   ]
  },
  {
   "cell_type": "code",
   "execution_count": 12,
   "metadata": {},
   "outputs": [
    {
     "data": {
      "text/plain": [
       "<4338x3664 sparse matrix of type '<class 'numpy.int64'>'\n",
       "\twith 266723 stored elements in Compressed Sparse Row format>"
      ]
     },
     "execution_count": 12,
     "metadata": {},
     "output_type": "execute_result"
    }
   ],
   "source": [
    "purchases_sparse"
   ]
  },
  {
   "cell_type": "markdown",
   "metadata": {},
   "source": [
    "4338명의 고객, 3664개의 아이템, 266723개가 구매(=user/item interaction) 되었다. \n",
    "<br/>\n",
    "행렬의 sparsity계산은 다음과 같다"
   ]
  },
  {
   "cell_type": "code",
   "execution_count": 8,
   "metadata": {},
   "outputs": [
    {
     "data": {
      "text/plain": [
       "98.32190920694744"
      ]
     },
     "execution_count": 8,
     "metadata": {},
     "output_type": "execute_result"
    }
   ],
   "source": [
    "matrix_size = purchases_sparse.shape[0]*purchases_sparse.shape[1] #number of possible interactions in the matrix\n",
    "num_purchases = len(purchases_sparse.nonzero()[0])\n",
    "sparsity = 100*(1-(num_purchases/matrix_size))\n",
    "sparsity"
   ]
  },
  {
   "cell_type": "markdown",
   "metadata": {},
   "source": [
    "Collaborative filtering을 위해서 maximum sparsity는 99.5% 정도이다.따라서 우리는 그 다음과정을 충분히 진행할 수 있다."
   ]
  },
  {
   "cell_type": "markdown",
   "metadata": {},
   "source": [
    "### Part3 : Creating a Training and Validation Set"
   ]
  },
  {
   "cell_type": "markdown",
   "metadata": {},
   "source": [
    "![image.png](https://nbviewer.jupyter.org/github/jmsteinw/Notebooks/blob/master/Traintest_ex.png)"
   ]
  },
  {
   "cell_type": "markdown",
   "metadata": {},
   "source": [
    "하지만 CF에서는 모든 유저와 아이템의 인터렉션이 있어야 위에처럼 할 수 있기때문에 적절하지 않다. \n",
    "좋은 방법은 무작위로 선택한 training 단계 동안 모델에서 user-item interaction의 일정 비율을 숨기는 것이다. \n",
    "그런 다음, test 단계에서 유저가 추천된 품목 중 실제로 구매에 성공한 것이 몇 개나 되는지 확인한다. \n",
    "이상적으로, 당신은 궁극적으로 어떤 종류의 A/B 시험으로 당신의 추천를 test하거나 일정 시간 이후의 데이터가 test에 사용되는 동안 training 하는데 사용되는 시계열 데이터를 활용한다."
   ]
  },
  {
   "cell_type": "markdown",
   "metadata": {},
   "source": [
    "![img](https://nbviewer.jupyter.org/github/jmsteinw/Notebooks/blob/master/MaskTrain.png)"
   ]
  },
  {
   "cell_type": "code",
   "execution_count": 9,
   "metadata": {},
   "outputs": [],
   "source": [
    "import random\n"
   ]
  },
  {
   "cell_type": "code",
   "execution_count": 10,
   "metadata": {},
   "outputs": [],
   "source": [
    "def make_train (ratings, pct_test = 0.2):\n",
    "    \n",
    "    '''\n",
    "original user-item matrix와 \"mask\"에서 user-item interaction이 testset으로 사용되었을 때 original rating의 percentage를 가진다.\n",
    "\n",
    "\n",
    "test set : 모든 original rating이 포함\n",
    "train set: 원래 rating 매트릭스에서 지정된 percentage인 0으로 대체한다.\n",
    "\n",
    "parameters: \n",
    "\n",
    "rating - train/test set를 생성하고자 하는 original rating matrix. sparse한 csr_matrix의 일종이다. \n",
    "\n",
    "pct_test - test set 과 나중에 비교하기 위한 trainig set에서 masking하고자 하는 interaction이 발생한 user-item interaction 의 percentage.\n",
    "\n",
    "returns:\n",
    "\n",
    "training_set - 원래 interaction을 0으로 설정한 user-item 쌍의 일정 비율을 가진 원본 데이터의 변경 버전\n",
    "\n",
    "test_set - rating 순서가 실제 interaction과 어떻게 비교되는지를 볼 수 있도록 원래의 rating 매트릭스의 사본.\n",
    "\n",
    "user_inds - AUC를 통해 성능을 평가할 때 나중에 필요할 것.\n",
    "'''\n",
    "\n",
    "    test_set = ratings.copy()\n",
    "    test_set[test_set!=0] = 1 #binary 로 바꾸기 위해\n",
    "    training_set = ratings.copy()\n",
    "    nonzero_inds = training_set.nonzero()\n",
    "    nonzero_pairs = list(zip(nonzero_inds[0], nonzero_inds[1]))\n",
    "    random.seed(0)\n",
    "    num_samples = int(np.ceil(pct_test*len(nonzero_pairs))) #np.ceil : 올림\n",
    "    samples = random.sample(nonzero_pairs, num_samples)\n",
    "    user_inds = [index[0] for index in samples]\n",
    "    item_inds = [index[1] for index in samples]\n",
    "    \n",
    "    training_set[user_inds, item_inds] = 0 #선택된거는 다 0으로 만들어 주기\n",
    "    training_set.eliminate_zeros()\n",
    "    return training_set, test_set, list(set(user_inds))"
   ]
  },
  {
   "cell_type": "markdown",
   "metadata": {},
   "source": [
    "training set, 0(구매x)/1(구매) 로 binary화 된 test set. 적어도 한 아이템을 가린 아이템 리스트가 return 된다.\n",
    "우리는 이들에게만 recommender system을 테스트 할것이고 여기서는 지금 uner-item interaction의 20%를 masking 하고 있다."
   ]
  },
  {
   "cell_type": "code",
   "execution_count": 11,
   "metadata": {},
   "outputs": [],
   "source": [
    "product_train, product_test, product_users_altered = make_train(purchases_sparse, pct_test=0.2)"
   ]
  },
  {
   "cell_type": "markdown",
   "metadata": {},
   "source": [
    "여기까지 train/test를 split했다. "
   ]
  },
  {
   "cell_type": "markdown",
   "metadata": {},
   "source": [
    "### Part4 : Implementing ALS for Implict Feedback"
   ]
  },
  {
   "cell_type": "markdown",
   "metadata": {},
   "source": [
    "[참고논문]\n",
    "[Hu, Koren, and Volinsky](http://yifanhu.net/PUB/cf.pdf)\n",
    "\n",
    "우리가 가지고 있는 sparse한 rating matrix를 confidence matrix로 바꿔야 한다. \n",
    "\n",
    "\n",
    "*C<sub>ui</sub>=1+αr<sub>ui</sub>*\n",
    "\n",
    "C<sub>ui</sub> : 유저u와 아이템i의 confidence matrix\n",
    "α :rating 선호도의 linear scaling\n",
    "r<sub>ui</sub> : original purchase matrix\n",
    "\n",
    "일반적으로 40정도의 dimension을 good starting point 라고 본다. \n",
    "\n",
    "최종 계산식은 아래의 두 식을 반복할 것이다. \n",
    "\n",
    "- *x<sub>u</sub>=(Y<sup>T</sup>Y+Y<sup>T</sup>(C<sup>u</sup>-I)Y+λI)<sup>-1</sup>Y<sup>T</sup>C<sup>u</sup>p(u)*\n",
    "\n",
    "- *y<sub>i</sub>=(X<sup>T</sup>X+X<sup>T</sup>(C<sup>i</sup>-I)X+λI)<sup>-1</sup>X<sup>T</sup>C<sup>i</sup>p(i)*"
   ]
  },
  {
   "cell_type": "code",
   "execution_count": 12,
   "metadata": {},
   "outputs": [],
   "source": [
    "def implict_weighted_ALS(training_set, lambda_val = 0.1, alpha = 40, iterations = 10, rank_size =20, seed = 0 ):\n",
    "    '''\n",
    "\n",
    "매개 변수:\n",
    "\n",
    "training_set - feature m x n의 rating 매트릭스, 여기서 m은 사용자 수, n은 품목 수.sparse csr 매트릭스가 되어야 한다. \n",
    "\n",
    "lambda_val - for normalization. 이 값을 증가시키면 bias은 증가되지만 variance은 감소한다. 기본값은 0.1이다. \n",
    "\n",
    "alpha - 논문에서 논한 confidence matrix와 관련된 파라미터, 여기서 Cui = 1 + alpha*Rui. 논문은 가장 효과적인 default값으로 40. 이를 줄이면 각종 rating간의 confidence뢰도의 변동성이 줄어든다.\n",
    "\n",
    "iterations - user feature vector와 item feature vector가 최소 제곱을 alterate하는 횟수. 더 많은 반복은 증가된 계산의 비용으로 더 나은 융합을 가능하게 할 것이다. 저자들은 10번 반복하면 충분하지만 수렴하려면 더 많은 것이 필요할 수 있다는 것을 발견했다. \n",
    "\n",
    "rank_size - user/item feature vector의 latent feature의 수. 논문은 이것을 20-200 사이에서 변화시킬 것을 권고했다. feature의 수를 늘리면 overfitting할 수 있지만 bias을 줄일 수 있다. \n",
    "\n",
    "seed - 재현 가능한 결과를 위해 시드를 설정\n",
    "\n",
    "returns:\n",
    "\n",
    "user 및 item 에 대한 feature vector. 이러한 feature vector의 dot product는 원래 매트릭스의 각 지점에서 예상되는 \"rating\"을 제공해야 한다. \n",
    "'''\n",
    "    # first set up our confidence matrix\n",
    "    \n",
    "    conf = (alpha*training_set) #1은 나중에 더할 것\n",
    "    \n",
    "    num_user = conf.shape[0]\n",
    "    num_item = conf.shape[1] #original rating matrix의 size (m by n)\n",
    "    \n",
    "    #initialize our X/Y feature vectors randomly with a set seed\n",
    "    rstate = np.random.RandomState(seed)\n",
    "    \n",
    "    X = sparse.csr_matrix(rstate.normal(size = (num_user, rank_size)))\n",
    "    Y = sparse.csr_matrix(rstate.normal(size = (num_item, rank_size)))\n",
    "    \n",
    "    X_eye = sparse.eye(num_user)\n",
    "    Y_eye = sparse.eye(num_item)\n",
    "\n",
    "    lambda_eye = lambda_val * sparse.eye(rank_size) #regularization term\n",
    "    \n",
    "    # we can compute this before iteration starts.\n",
    "    \n",
    "    # Begin iterations\n",
    "    \n",
    "    for iter_step in range(iterations): #y를 고정하고 x풀고, x 고정하고 y풀고 반복\n",
    "        yty = Y.T.dot(Y)\n",
    "        xtx = X.T.dot(X)\n",
    "        \n",
    "        #y를 고정시키고 x를 푸는 과정\n",
    "        for u in range(num_user):\n",
    "            conf_samp = conf[u,:].toarray() #confidence matrix에서 user row하나 골라서 array로 변환\n",
    "            pref = conf_samp.copy()\n",
    "            pref[pref != 0] = 1 #binary preference vector 생성\n",
    "            cui = sparse.diags(conf_samp ,[0]) #1을 더하지 않은(cui-I) 부분\n",
    "            ytcuiy = Y.T.dot(cui).dot(Y)\n",
    "            ytcupu = Y.T.dot(cui + Y_eye).dot(pref.T) #ytcupu\n",
    "            X[u] = spsolve(yty + ytcuiy + lambda_eye, ytcupu)\n",
    "             # Solve for Xu = ((yTy + yT(Cu-I)Y + lambda*I)^-1)yTCuPu,\n",
    "                \n",
    "        for i in range(num_item):\n",
    "            conf_samp = conf[:,i].T.toarray()\n",
    "            pref = conf_samp.copy()\n",
    "            pref[pref != 0] = 1\n",
    "            cii = sparse.diags(conf_samp,[0])\n",
    "            xtciix = X.T.dot(cii).dot(X)\n",
    "            xtcipi = X.T.dot(cii + X_eye).dot(pref.T)\n",
    "            Y[i] = spsolve(xtx + xtciix + lambda_eye, xtcipi)\n",
    "\n",
    "    return X, Y.T  # Transpose at the end to make up for not being transposed at the beginning. \n",
    "                  # Y needs to be rank x n. Keep these as separate matrices for scale reasons. \n",
    "\n",
    "   \n",
    "\n",
    "\n",
    "        \n",
    "        \n",
    "    "
   ]
  },
  {
   "cell_type": "code",
   "execution_count": 13,
   "metadata": {},
   "outputs": [],
   "source": [
    "user_vecs, item_vecs = implict_weighted_ALS(product_train, lambda_val = 0.1, alpha = 15, iterations = 1, rank_size = 20)"
   ]
  },
  {
   "cell_type": "markdown",
   "metadata": {},
   "source": [
    "user vector 와 item vector 의 내적을 통해 특정 유저의 rating을 알 수 있다.\n",
    "- ex) 첫 번째 유저"
   ]
  },
  {
   "cell_type": "code",
   "execution_count": 24,
   "metadata": {},
   "outputs": [
    {
     "data": {
      "text/plain": [
       "array([ 0.01218043, -0.00251753,  0.00943813,  0.00054114,  0.02303351])"
      ]
     },
     "execution_count": 24,
     "metadata": {},
     "output_type": "execute_result"
    }
   ],
   "source": [
    "user_vecs[0,:].dot(item_vecs).toarray()[0,:5]"
   ]
  },
  {
   "cell_type": "markdown",
   "metadata": {},
   "source": [
    "3664개의 stock중 첫번째 5개의 item의 sample이다. 첫번째 유저의 한 번 실행시 15분 정도 걸리며, 최소 10번 이상 반복해야 한다."
   ]
  },
  {
   "cell_type": "markdown",
   "metadata": {},
   "source": [
    "### Speeding Up ALS"
   ]
  },
  {
   "cell_type": "markdown",
   "metadata": {},
   "source": [
    "Ben Frederickson 이란 분이 parallelizing version의 ALS를 고안해내셨다.(훨씬 빠르다)"
   ]
  },
  {
   "cell_type": "code",
   "execution_count": 14,
   "metadata": {},
   "outputs": [],
   "source": [
    "import implicit"
   ]
  },
  {
   "cell_type": "markdown",
   "metadata": {},
   "source": [
    "- 알파에 대한 매개변수 x, \n",
    "- matrix type을 double로 설정했는지 확인 필요"
   ]
  },
  {
   "cell_type": "code",
   "execution_count": 15,
   "metadata": {},
   "outputs": [
    {
     "name": "stderr",
     "output_type": "stream",
     "text": [
      "This method is deprecated. Please use the AlternatingLeastSquares class instead\n",
      "WARNING:root:Intel MKL BLAS detected. Its highly recommend to set the environment variable 'export MKL_NUM_THREADS=1' to disable its internal multithreading\n",
      "100%|██████████| 50.0/50 [00:00<00:00, 88.67it/s]\n"
     ]
    }
   ],
   "source": [
    "alpha = 15\n",
    "user_vecs, item_vecs = implicit.alternating_least_squares((product_train*alpha).astype('double'),\n",
    "                                                         factors=20, regularization=0.1,\n",
    "                                                         iterations =50)"
   ]
  },
  {
   "cell_type": "markdown",
   "metadata": {},
   "source": [
    "이제 모든 user와 item에 대한 recommendation 을 가지고 있다. 이게 좋은지 어떻게 알 수 있을까?"
   ]
  },
  {
   "cell_type": "markdown",
   "metadata": {},
   "source": [
    "### Evaluating the Recommender System"
   ]
  },
  {
   "cell_type": "markdown",
   "metadata": {},
   "source": [
    "일전에 training set 의 20%를 가려놓았는데, 이를 추천시스템의 성능 평가에 사용한다. \n",
    "일반적으로 ROC curve를 사용한다 (면적이 넓으면 잘 되고 있다는 의미)\n",
    " * 주로 ROC curve 는 좋다/아니다 와 같은 이분법적인 평가에 적합\n",
    "\n"
   ]
  },
  {
   "cell_type": "markdown",
   "metadata": {},
   "source": [
    "따라서 한 개 이사으이 masked item이 있다면, auc의 mean area를 구할 수 있다.\n",
    "만약 간단한 추천시스템으로 제일 인기있는 아이템을 추천했다면 auc의 평균도 계산해야 한다.\n"
   ]
  },
  {
   "cell_type": "markdown",
   "metadata": {},
   "source": [
    "auc를 계산해 보자."
   ]
  },
  {
   "cell_type": "code",
   "execution_count": 16,
   "metadata": {},
   "outputs": [],
   "source": [
    "from sklearn import metrics"
   ]
  },
  {
   "cell_type": "code",
   "execution_count": 17,
   "metadata": {},
   "outputs": [],
   "source": [
    "def auc_score (predictions, test):\n",
    "    '''\n",
    "    curve 아래쪽의 면적 계산\n",
    "    \n",
    "    parameters: \n",
    "    \n",
    "    prediction - 예측결과\n",
    "    test - 현재 비교하고 있는 실제 목표 결과\n",
    "    '''\n",
    "    fpr, tpr, thresholds = metrics.roc_curve(test, predictions)\n",
    "    return metrics.auc(fpr, tpr)"
   ]
  },
  {
   "cell_type": "markdown",
   "metadata": {},
   "source": [
    "유저가 비교할 수 있는 가장 인기 있는 아이템에 대한 auc를 계산해야 한다."
   ]
  },
  {
   "cell_type": "code",
   "execution_count": 18,
   "metadata": {},
   "outputs": [],
   "source": [
    "def calc_mean_auc (training_set, altered_users, predictions, test_set):\n",
    "    '''\n",
    "    평균 auc 계산\n",
    "    \n",
    "    parameters:\n",
    "    \n",
    "    training_set - make_train에서 만들어지는 training set. user-item interaction 은 0으로 리셋됨.\n",
    "    altered_users - make_train 함수에서 user/item 쌍을 하나 이상 변경한 유저 수치\n",
    "    predictions - 암묵적 MF로부터의 output. user/item 쌍에 대한 예측 rating matrix. \n",
    "    test_set - make_train 에서 만들어진 test_set\n",
    "    \n",
    "    '''\n",
    "    \n",
    "    store_auc = [] #auc들을 저장할 빈 리스트\n",
    "    popularity_auc = []\n",
    "    pop_items = np.array(test_set.sum(axis=0)).reshape(-1) #1차원 배열\n",
    "    item_vecs = predictions[1]\n",
    "    for user in altered_users:\n",
    "        training_row = training_set[user,:].toarray().reshape(-1) #1차원 배열\n",
    "        zero_inds = np.where(training_row == 0)\n",
    "        \n",
    "        # Get the predicted values based on our user/item vectors\n",
    "        user_vec = predictions[0][user,:]\n",
    "        pred = user_vec.dot(item_vecs).toarray()[0,zero_inds].reshape(-1)\n",
    "        \n",
    "        # Get only the items that were originally zero\n",
    "        # 원래 반복이 없었던 user에 대한 MF prediction에서 모든 rating 선택\n",
    "        \n",
    "        actual = test_set[user,:].toarray()[0,zero_inds].reshape(-1)\n",
    "        \n",
    "        pop = pop_items[zero_inds] #get item popularity\n",
    "        store_auc.append(auc_score(pred, actual)) # Calculate AUC for the given user and store\n",
    "        popularity_auc.append(auc_score(pop, actual)) # Calculate AUC using most popular and score\n",
    "        \n",
    "    return float('%.3f'%np.mean(store_auc)), float('%.3f'%np.mean(popularity_auc)) #소숫점 3째 자리 반올림\n",
    "        \n",
    "        \n",
    "                                                      "
   ]
  },
  {
   "cell_type": "markdown",
   "metadata": {},
   "source": [
    "우리는 이제 추천시스템이 어떻게 돌아가고 있는지 볼 수 있다. \n",
    "ALS 함수에서 csr_matrix 형식과 item vector들을 변환해야 한다."
   ]
  },
  {
   "cell_type": "code",
   "execution_count": 19,
   "metadata": {},
   "outputs": [
    {
     "data": {
      "text/plain": [
       "(0.871, 0.814)"
      ]
     },
     "execution_count": 19,
     "metadata": {},
     "output_type": "execute_result"
    }
   ],
   "source": [
    "calc_mean_auc(product_train, product_users_altered,[sparse.csr_matrix(user_vecs), sparse.csr_matrix(item_vecs.T)], product_test)"
   ]
  },
  {
   "cell_type": "markdown",
   "metadata": {},
   "source": [
    "mean auc = 0.871, popular item benchmark = 0.814\n",
    "hyterparameter들을 조정하여 auc점수를 조정할 수 있다."
   ]
  },
  {
   "cell_type": "markdown",
   "metadata": {},
   "source": [
    "### A Recommendation Example"
   ]
  },
  {
   "cell_type": "markdown",
   "metadata": {},
   "source": [
    "우리의 추천시스템을 통해 benchmark popularity를 넘었다는 것을 증명했다. 즉 auc 0.87의 의미는 실제로 추천시스템에서 유저기 test set에서 구매한 아이템을 유저가 구매하지 않은 아이템보다 훨씬 더 자주 추천하고 있음을 의미한다. \n",
    "어떻게 작동하는지 보기위해서 특정 유저에게 우어진 추천안을 확인해보고 그것이 얼마나 make sence한지 확인해 보자."
   ]
  },
  {
   "cell_type": "code",
   "execution_count": 20,
   "metadata": {},
   "outputs": [],
   "source": [
    "customers_arr = np.array(customers) #rating matrix에서의 customer id 배열\n",
    "products_arr = np.array(products) #rating matrix에서의 product id 배열"
   ]
  },
  {
   "cell_type": "code",
   "execution_count": 21,
   "metadata": {},
   "outputs": [],
   "source": [
    "def get_items_purchased (customer_id, mf_train, customers_list, products_list, item_lookup):\n",
    "    \n",
    "    '''   \n",
    "training set 에서 특정 유저가 이미 구매한 아이템들\n",
    "\n",
    "parameters: \n",
    "\n",
    "customer_id - 최소 한 번 이상 이전에 구입한 고객의 ID\n",
    "mf_train - 사용된 초기 rating matrix set (without weights applied)\n",
    "customer_list - rating matrix에 사용된 customer의 배열\n",
    "products_list - rating matrix에 사용된 product의 배열\n",
    "item_lookup - 사용 가능한 고유 아이템ID/아이템 설명의 간단한 데이터 프레임\n",
    "\n",
    "return:\n",
    "training set에서 이미 구매한 특정 유저의 아이템id와 아이템 설명 목록\n",
    "\n",
    "    '''\n",
    "    cust_ind =  np.where(customers_list == customer_id)[0][0] #customer id 의 row index\n",
    "    purchased_ind = mf_train[cust_ind,:].nonzero()[1] #구매 아이템의 column index\n",
    "    prod_codes = products_list[purchased_ind] #구매한 아이템의 stock code\n",
    "    \n",
    "    return item_lookup.loc[item_lookup.StockCode.isin(prod_codes)]\n"
   ]
  },
  {
   "cell_type": "code",
   "execution_count": 22,
   "metadata": {},
   "outputs": [
    {
     "data": {
      "text/plain": [
       "array([12346, 12347, 12348, 12349, 12350])"
      ]
     },
     "execution_count": 22,
     "metadata": {},
     "output_type": "execute_result"
    }
   ],
   "source": [
    "customers_arr[:5]"
   ]
  },
  {
   "cell_type": "markdown",
   "metadata": {},
   "source": [
    "12346 id를 가지고 있는 첫 번째 고객이 구입한 앙이템을 살펴보자"
   ]
  },
  {
   "cell_type": "code",
   "execution_count": 23,
   "metadata": {},
   "outputs": [
    {
     "data": {
      "text/html": [
       "<div>\n",
       "<style scoped>\n",
       "    .dataframe tbody tr th:only-of-type {\n",
       "        vertical-align: middle;\n",
       "    }\n",
       "\n",
       "    .dataframe tbody tr th {\n",
       "        vertical-align: top;\n",
       "    }\n",
       "\n",
       "    .dataframe thead th {\n",
       "        text-align: right;\n",
       "    }\n",
       "</style>\n",
       "<table border=\"1\" class=\"dataframe\">\n",
       "  <thead>\n",
       "    <tr style=\"text-align: right;\">\n",
       "      <th></th>\n",
       "      <th>StockCode</th>\n",
       "      <th>Description</th>\n",
       "    </tr>\n",
       "  </thead>\n",
       "  <tbody>\n",
       "    <tr>\n",
       "      <th>61619</th>\n",
       "      <td>23166</td>\n",
       "      <td>MEDIUM CERAMIC TOP STORAGE JAR</td>\n",
       "    </tr>\n",
       "  </tbody>\n",
       "</table>\n",
       "</div>"
      ],
      "text/plain": [
       "      StockCode                     Description\n",
       "61619     23166  MEDIUM CERAMIC TOP STORAGE JAR"
      ]
     },
     "execution_count": 23,
     "metadata": {},
     "output_type": "execute_result"
    }
   ],
   "source": [
    "get_items_purchased(12346, product_train, customers_arr, products_arr, item_lookup )"
   ]
  },
  {
   "cell_type": "markdown",
   "metadata": {},
   "source": [
    "medium 사이즈의 ceramic jar for storage를 산 것을 알 수 있다. \n",
    "추천 시스템에서는 이 고객이 어떤 아이템을 구매해야한다고 하는가?"
   ]
  },
  {
   "cell_type": "code",
   "execution_count": 24,
   "metadata": {},
   "outputs": [],
   "source": [
    "from sklearn.preprocessing import MinMaxScaler"
   ]
  },
  {
   "cell_type": "code",
   "execution_count": 41,
   "metadata": {},
   "outputs": [],
   "source": [
    "def rec_items(customer_id, mf_train, user_vecs, item_vecs, customer_list, item_list, item_lookup, num_items = 10 ):\n",
    "    \n",
    "    '''\n",
    "      \n",
    "가장 추천하는 아이템 유저에게 return\n",
    "\n",
    "parameters:\n",
    "\n",
    "customer_id - 최소 한 번 이상 이전에 구입한 고객의 ID\n",
    "mf_train - 사용된 초기 rating matrix set (without weights applied)\n",
    "user_vecs - fitted matrix factorization 에서의 user vector\n",
    "item_vecs - fitted matrix facotrization 에서의 item vector\n",
    "customer_list - rating matrix에 사용된 customer의 배열 (in order of matrix)\n",
    "products_list - rating matrix에 사용된 product의 배열 (in order of matrix)\n",
    "item_lookup - 사용 가능한 고유 아이템ID/아이템 설명의 간단한 데이터 프레임\n",
    "num_items - 구매하지 않은 아이템들 중 top N개의 추천 아이템의의 수. 기본값은 10 \n",
    "\n",
    "return:\n",
    "\n",
    "- user/item vector을 기준을 선택된 아이템 중 상위 N개 추천\n",
    "    '''\n",
    "    \n",
    "    cust_ind = np.where(customer_list == customer_id)[0][0] #customer id의 index row\n",
    "    pref_vec = mf_train[cust_ind, :].toarray() #training set rating matrix에서 rating 가져오기\n",
    "    pref_vec = pref_vec.reshape(-1) + 1 #1을 더하면 아직 구입하지 않은 아이템들이 1로 표시\n",
    "    pref_vec[pref_vec>1] = 0 #이미 구매한 것들을 0으로 지정\n",
    "    rec_vector = user_vecs[cust_ind,:].dot(item_vecs.T) #user vecot와 모든 item vector와의 내적\n",
    "    \n",
    "    #0~1사이로 scailing\n",
    "    min_max = MinMaxScaler()\n",
    "    rec_vector_scaled = min_max.fit_transform(rec_vector.reshape(-1,1))[:,0]\n",
    "    recommend_vector = pref_vec*rec_vector_scaled\n",
    "    \n",
    "    #구매된 아이템에는 다시 0을 곱해줌\n",
    "    product_idx = np.argsort(recommend_vector)[::-1][:num_items] #순서대로 정렬\n",
    "    \n",
    "    \n",
    "    #best recommendations\n",
    "    rec_list=[]\n",
    "    for index in product_idx:\n",
    "        code = item_list[index]\n",
    "        rec_list.append([code, item_lookup.Description.loc[item_lookup.StockCode == code].iloc[0]])\n",
    "        \n",
    "    codes = [item[0] for item in rec_list]\n",
    "    descriptions = [item[1] for item in rec_list]\n",
    "    \n",
    "    final_frame = pd.DataFrame ({'StockCode':codes, 'Description':descriptions})\n",
    "    return final_frame[['StockCode','Description']]\n",
    "    \n",
    "        \n",
    "    "
   ]
  },
  {
   "cell_type": "markdown",
   "metadata": {},
   "source": [
    "이미 구매한 상품은 유저에게 추천하지 않는다. 유저가 무엇을 선택하기로 결정하는지 확인해보자."
   ]
  },
  {
   "cell_type": "code",
   "execution_count": 42,
   "metadata": {},
   "outputs": [
    {
     "data": {
      "text/html": [
       "<div>\n",
       "<style scoped>\n",
       "    .dataframe tbody tr th:only-of-type {\n",
       "        vertical-align: middle;\n",
       "    }\n",
       "\n",
       "    .dataframe tbody tr th {\n",
       "        vertical-align: top;\n",
       "    }\n",
       "\n",
       "    .dataframe thead th {\n",
       "        text-align: right;\n",
       "    }\n",
       "</style>\n",
       "<table border=\"1\" class=\"dataframe\">\n",
       "  <thead>\n",
       "    <tr style=\"text-align: right;\">\n",
       "      <th></th>\n",
       "      <th>StockCode</th>\n",
       "      <th>Description</th>\n",
       "    </tr>\n",
       "  </thead>\n",
       "  <tbody>\n",
       "    <tr>\n",
       "      <th>0</th>\n",
       "      <td>23167</td>\n",
       "      <td>SMALL CERAMIC TOP STORAGE JAR</td>\n",
       "    </tr>\n",
       "    <tr>\n",
       "      <th>1</th>\n",
       "      <td>23165</td>\n",
       "      <td>LARGE CERAMIC TOP STORAGE JAR</td>\n",
       "    </tr>\n",
       "    <tr>\n",
       "      <th>2</th>\n",
       "      <td>22980</td>\n",
       "      <td>PANTRY SCRUBBING BRUSH</td>\n",
       "    </tr>\n",
       "    <tr>\n",
       "      <th>3</th>\n",
       "      <td>22963</td>\n",
       "      <td>JAM JAR WITH GREEN LID</td>\n",
       "    </tr>\n",
       "    <tr>\n",
       "      <th>4</th>\n",
       "      <td>22978</td>\n",
       "      <td>PANTRY ROLLING PIN</td>\n",
       "    </tr>\n",
       "    <tr>\n",
       "      <th>5</th>\n",
       "      <td>23295</td>\n",
       "      <td>SET OF 12 MINI LOAF BAKING CASES</td>\n",
       "    </tr>\n",
       "    <tr>\n",
       "      <th>6</th>\n",
       "      <td>23294</td>\n",
       "      <td>SET OF 6 SNACK LOAF BAKING CASES</td>\n",
       "    </tr>\n",
       "    <tr>\n",
       "      <th>7</th>\n",
       "      <td>22982</td>\n",
       "      <td>PANTRY PASTRY BRUSH</td>\n",
       "    </tr>\n",
       "    <tr>\n",
       "      <th>8</th>\n",
       "      <td>23296</td>\n",
       "      <td>SET OF 6 TEA TIME BAKING CASES</td>\n",
       "    </tr>\n",
       "    <tr>\n",
       "      <th>9</th>\n",
       "      <td>23293</td>\n",
       "      <td>SET OF 12 FAIRY CAKE BAKING CASES</td>\n",
       "    </tr>\n",
       "  </tbody>\n",
       "</table>\n",
       "</div>"
      ],
      "text/plain": [
       "  StockCode                        Description\n",
       "0     23167     SMALL CERAMIC TOP STORAGE JAR \n",
       "1     23165      LARGE CERAMIC TOP STORAGE JAR\n",
       "2     22980             PANTRY SCRUBBING BRUSH\n",
       "3     22963             JAM JAR WITH GREEN LID\n",
       "4     22978                 PANTRY ROLLING PIN\n",
       "5     23295   SET OF 12 MINI LOAF BAKING CASES\n",
       "6     23294   SET OF 6 SNACK LOAF BAKING CASES\n",
       "7     22982                PANTRY PASTRY BRUSH\n",
       "8     23296     SET OF 6 TEA TIME BAKING CASES\n",
       "9     23293  SET OF 12 FAIRY CAKE BAKING CASES"
      ]
     },
     "execution_count": 42,
     "metadata": {},
     "output_type": "execute_result"
    }
   ],
   "source": [
    "rec_items(12346, product_train, user_vecs, item_vecs, customers_arr, products_arr, item_lookup, num_items = 10)"
   ]
  },
  {
   "cell_type": "markdown",
   "metadata": {},
   "source": [
    "구매이력으로만 판단한 것 치고 괜찮은 결과가 나온다.\n",
    "- 이미 구입한 사람에게 다른 사이즈의 ceramic jar 추천\n",
    "- ceramic jar과 사용이 비슷한 제품 추천 (jar magnets, suger dispenser)\n"
   ]
  },
  {
   "cell_type": "markdown",
   "metadata": {},
   "source": [
    "대량 구매를 하지 않은 다른 유저에게도 시도해보자."
   ]
  },
  {
   "cell_type": "code",
   "execution_count": 43,
   "metadata": {},
   "outputs": [
    {
     "data": {
      "text/html": [
       "<div>\n",
       "<style scoped>\n",
       "    .dataframe tbody tr th:only-of-type {\n",
       "        vertical-align: middle;\n",
       "    }\n",
       "\n",
       "    .dataframe tbody tr th {\n",
       "        vertical-align: top;\n",
       "    }\n",
       "\n",
       "    .dataframe thead th {\n",
       "        text-align: right;\n",
       "    }\n",
       "</style>\n",
       "<table border=\"1\" class=\"dataframe\">\n",
       "  <thead>\n",
       "    <tr style=\"text-align: right;\">\n",
       "      <th></th>\n",
       "      <th>StockCode</th>\n",
       "      <th>Description</th>\n",
       "    </tr>\n",
       "  </thead>\n",
       "  <tbody>\n",
       "    <tr>\n",
       "      <th>2148</th>\n",
       "      <td>37446</td>\n",
       "      <td>MINI CAKE STAND WITH HANGING CAKES</td>\n",
       "    </tr>\n",
       "    <tr>\n",
       "      <th>2149</th>\n",
       "      <td>37449</td>\n",
       "      <td>CERAMIC CAKE STAND + HANGING CAKES</td>\n",
       "    </tr>\n",
       "    <tr>\n",
       "      <th>4859</th>\n",
       "      <td>37450</td>\n",
       "      <td>CERAMIC CAKE BOWL + HANGING CAKES</td>\n",
       "    </tr>\n",
       "    <tr>\n",
       "      <th>5108</th>\n",
       "      <td>22890</td>\n",
       "      <td>NOVELTY BISCUITS CAKE STAND 3 TIER</td>\n",
       "    </tr>\n",
       "  </tbody>\n",
       "</table>\n",
       "</div>"
      ],
      "text/plain": [
       "     StockCode                         Description\n",
       "2148     37446  MINI CAKE STAND WITH HANGING CAKES\n",
       "2149     37449  CERAMIC CAKE STAND + HANGING CAKES\n",
       "4859     37450   CERAMIC CAKE BOWL + HANGING CAKES\n",
       "5108     22890  NOVELTY BISCUITS CAKE STAND 3 TIER"
      ]
     },
     "execution_count": 43,
     "metadata": {},
     "output_type": "execute_result"
    }
   ],
   "source": [
    "get_items_purchased(12353,product_train, customers_arr, products_arr, item_lookup)\n",
    "\n",
    "#"
   ]
  },
  {
   "cell_type": "code",
   "execution_count": 44,
   "metadata": {},
   "outputs": [
    {
     "data": {
      "text/html": [
       "<div>\n",
       "<style scoped>\n",
       "    .dataframe tbody tr th:only-of-type {\n",
       "        vertical-align: middle;\n",
       "    }\n",
       "\n",
       "    .dataframe tbody tr th {\n",
       "        vertical-align: top;\n",
       "    }\n",
       "\n",
       "    .dataframe thead th {\n",
       "        text-align: right;\n",
       "    }\n",
       "</style>\n",
       "<table border=\"1\" class=\"dataframe\">\n",
       "  <thead>\n",
       "    <tr style=\"text-align: right;\">\n",
       "      <th></th>\n",
       "      <th>StockCode</th>\n",
       "      <th>Description</th>\n",
       "    </tr>\n",
       "  </thead>\n",
       "  <tbody>\n",
       "    <tr>\n",
       "      <th>0</th>\n",
       "      <td>21231</td>\n",
       "      <td>SWEETHEART CERAMIC TRINKET BOX</td>\n",
       "    </tr>\n",
       "    <tr>\n",
       "      <th>1</th>\n",
       "      <td>22645</td>\n",
       "      <td>CERAMIC HEART FAIRY CAKE MONEY BANK</td>\n",
       "    </tr>\n",
       "    <tr>\n",
       "      <th>2</th>\n",
       "      <td>37447</td>\n",
       "      <td>CERAMIC CAKE DESIGN SPOTTED PLATE</td>\n",
       "    </tr>\n",
       "    <tr>\n",
       "      <th>3</th>\n",
       "      <td>37448</td>\n",
       "      <td>CERAMIC CAKE DESIGN SPOTTED MUG</td>\n",
       "    </tr>\n",
       "    <tr>\n",
       "      <th>4</th>\n",
       "      <td>22055</td>\n",
       "      <td>MINI CAKE STAND  HANGING STRAWBERY</td>\n",
       "    </tr>\n",
       "    <tr>\n",
       "      <th>5</th>\n",
       "      <td>72741</td>\n",
       "      <td>GRAND CHOCOLATECANDLE</td>\n",
       "    </tr>\n",
       "    <tr>\n",
       "      <th>6</th>\n",
       "      <td>22646</td>\n",
       "      <td>CERAMIC STRAWBERRY CAKE MONEY BANK</td>\n",
       "    </tr>\n",
       "    <tr>\n",
       "      <th>7</th>\n",
       "      <td>22644</td>\n",
       "      <td>CERAMIC CHERRY CAKE MONEY BANK</td>\n",
       "    </tr>\n",
       "    <tr>\n",
       "      <th>8</th>\n",
       "      <td>21232</td>\n",
       "      <td>STRAWBERRY CERAMIC TRINKET BOX</td>\n",
       "    </tr>\n",
       "    <tr>\n",
       "      <th>9</th>\n",
       "      <td>22059</td>\n",
       "      <td>CERAMIC STRAWBERRY DESIGN MUG</td>\n",
       "    </tr>\n",
       "  </tbody>\n",
       "</table>\n",
       "</div>"
      ],
      "text/plain": [
       "  StockCode                          Description\n",
       "0     21231       SWEETHEART CERAMIC TRINKET BOX\n",
       "1     22645  CERAMIC HEART FAIRY CAKE MONEY BANK\n",
       "2     37447    CERAMIC CAKE DESIGN SPOTTED PLATE\n",
       "3     37448      CERAMIC CAKE DESIGN SPOTTED MUG\n",
       "4     22055   MINI CAKE STAND  HANGING STRAWBERY\n",
       "5     72741                GRAND CHOCOLATECANDLE\n",
       "6     22646   CERAMIC STRAWBERRY CAKE MONEY BANK\n",
       "7     22644       CERAMIC CHERRY CAKE MONEY BANK\n",
       "8     21232       STRAWBERRY CERAMIC TRINKET BOX\n",
       "9     22059        CERAMIC STRAWBERRY DESIGN MUG"
      ]
     },
     "execution_count": 44,
     "metadata": {},
     "output_type": "execute_result"
    }
   ],
   "source": [
    "rec_items(12353, product_train, user_vecs, item_vecs, customers_arr,\n",
    "         products_arr, item_lookup, num_items=10)"
   ]
  },
  {
   "cell_type": "markdown",
   "metadata": {},
   "source": [
    "ceramic items 와 cake를 테마로 추천해 주는 것을 확인할 수 있다. "
   ]
  },
  {
   "cell_type": "code",
   "execution_count": 45,
   "metadata": {},
   "outputs": [
    {
     "data": {
      "text/html": [
       "<div>\n",
       "<style scoped>\n",
       "    .dataframe tbody tr th:only-of-type {\n",
       "        vertical-align: middle;\n",
       "    }\n",
       "\n",
       "    .dataframe tbody tr th {\n",
       "        vertical-align: top;\n",
       "    }\n",
       "\n",
       "    .dataframe thead th {\n",
       "        text-align: right;\n",
       "    }\n",
       "</style>\n",
       "<table border=\"1\" class=\"dataframe\">\n",
       "  <thead>\n",
       "    <tr style=\"text-align: right;\">\n",
       "      <th></th>\n",
       "      <th>StockCode</th>\n",
       "      <th>Description</th>\n",
       "    </tr>\n",
       "  </thead>\n",
       "  <tbody>\n",
       "    <tr>\n",
       "      <th>34</th>\n",
       "      <td>22326</td>\n",
       "      <td>ROUND SNACK BOXES SET OF4 WOODLAND</td>\n",
       "    </tr>\n",
       "    <tr>\n",
       "      <th>35</th>\n",
       "      <td>22629</td>\n",
       "      <td>SPACEBOY LUNCH BOX</td>\n",
       "    </tr>\n",
       "    <tr>\n",
       "      <th>37</th>\n",
       "      <td>22631</td>\n",
       "      <td>CIRCUS PARADE LUNCH BOX</td>\n",
       "    </tr>\n",
       "    <tr>\n",
       "      <th>93</th>\n",
       "      <td>20725</td>\n",
       "      <td>LUNCH BAG RED RETROSPOT</td>\n",
       "    </tr>\n",
       "    <tr>\n",
       "      <th>369</th>\n",
       "      <td>22382</td>\n",
       "      <td>LUNCH BAG SPACEBOY DESIGN</td>\n",
       "    </tr>\n",
       "    <tr>\n",
       "      <th>547</th>\n",
       "      <td>22328</td>\n",
       "      <td>ROUND SNACK BOXES SET OF 4 FRUITS</td>\n",
       "    </tr>\n",
       "    <tr>\n",
       "      <th>549</th>\n",
       "      <td>22630</td>\n",
       "      <td>DOLLY GIRL LUNCH BOX</td>\n",
       "    </tr>\n",
       "    <tr>\n",
       "      <th>1241</th>\n",
       "      <td>22555</td>\n",
       "      <td>PLASTERS IN TIN STRONGMAN</td>\n",
       "    </tr>\n",
       "    <tr>\n",
       "      <th>58132</th>\n",
       "      <td>20725</td>\n",
       "      <td>LUNCH BAG RED SPOTTY</td>\n",
       "    </tr>\n",
       "  </tbody>\n",
       "</table>\n",
       "</div>"
      ],
      "text/plain": [
       "      StockCode                          Description\n",
       "34        22326  ROUND SNACK BOXES SET OF4 WOODLAND \n",
       "35        22629                  SPACEBOY LUNCH BOX \n",
       "37        22631             CIRCUS PARADE LUNCH BOX \n",
       "93        20725              LUNCH BAG RED RETROSPOT\n",
       "369       22382           LUNCH BAG SPACEBOY DESIGN \n",
       "547       22328   ROUND SNACK BOXES SET OF 4 FRUITS \n",
       "549       22630                 DOLLY GIRL LUNCH BOX\n",
       "1241      22555            PLASTERS IN TIN STRONGMAN\n",
       "58132     20725                 LUNCH BAG RED SPOTTY"
      ]
     },
     "execution_count": 45,
     "metadata": {},
     "output_type": "execute_result"
    }
   ],
   "source": [
    "get_items_purchased(12361,product_train, customers_arr, products_arr, item_lookup)\n"
   ]
  },
  {
   "cell_type": "code",
   "execution_count": 46,
   "metadata": {},
   "outputs": [
    {
     "data": {
      "text/html": [
       "<div>\n",
       "<style scoped>\n",
       "    .dataframe tbody tr th:only-of-type {\n",
       "        vertical-align: middle;\n",
       "    }\n",
       "\n",
       "    .dataframe tbody tr th {\n",
       "        vertical-align: top;\n",
       "    }\n",
       "\n",
       "    .dataframe thead th {\n",
       "        text-align: right;\n",
       "    }\n",
       "</style>\n",
       "<table border=\"1\" class=\"dataframe\">\n",
       "  <thead>\n",
       "    <tr style=\"text-align: right;\">\n",
       "      <th></th>\n",
       "      <th>StockCode</th>\n",
       "      <th>Description</th>\n",
       "    </tr>\n",
       "  </thead>\n",
       "  <tbody>\n",
       "    <tr>\n",
       "      <th>0</th>\n",
       "      <td>22662</td>\n",
       "      <td>LUNCH BAG DOLLY GIRL DESIGN</td>\n",
       "    </tr>\n",
       "    <tr>\n",
       "      <th>1</th>\n",
       "      <td>22551</td>\n",
       "      <td>PLASTERS IN TIN SPACEBOY</td>\n",
       "    </tr>\n",
       "    <tr>\n",
       "      <th>2</th>\n",
       "      <td>20726</td>\n",
       "      <td>LUNCH BAG WOODLAND</td>\n",
       "    </tr>\n",
       "    <tr>\n",
       "      <th>3</th>\n",
       "      <td>84997D</td>\n",
       "      <td>PINK 3 PIECE POLKADOT CUTLERY SET</td>\n",
       "    </tr>\n",
       "    <tr>\n",
       "      <th>4</th>\n",
       "      <td>20727</td>\n",
       "      <td>LUNCH BAG  BLACK SKULL.</td>\n",
       "    </tr>\n",
       "    <tr>\n",
       "      <th>5</th>\n",
       "      <td>22383</td>\n",
       "      <td>LUNCH BAG SUKI  DESIGN</td>\n",
       "    </tr>\n",
       "    <tr>\n",
       "      <th>6</th>\n",
       "      <td>20719</td>\n",
       "      <td>WOODLAND CHARLOTTE BAG</td>\n",
       "    </tr>\n",
       "    <tr>\n",
       "      <th>7</th>\n",
       "      <td>20728</td>\n",
       "      <td>LUNCH BAG CARS BLUE</td>\n",
       "    </tr>\n",
       "    <tr>\n",
       "      <th>8</th>\n",
       "      <td>23206</td>\n",
       "      <td>LUNCH BAG APPLE DESIGN</td>\n",
       "    </tr>\n",
       "    <tr>\n",
       "      <th>9</th>\n",
       "      <td>20724</td>\n",
       "      <td>RED RETROSPOT CHARLOTTE BAG</td>\n",
       "    </tr>\n",
       "  </tbody>\n",
       "</table>\n",
       "</div>"
      ],
      "text/plain": [
       "  StockCode                        Description\n",
       "0     22662        LUNCH BAG DOLLY GIRL DESIGN\n",
       "1     22551           PLASTERS IN TIN SPACEBOY\n",
       "2     20726                 LUNCH BAG WOODLAND\n",
       "3    84997D  PINK 3 PIECE POLKADOT CUTLERY SET\n",
       "4     20727            LUNCH BAG  BLACK SKULL.\n",
       "5     22383            LUNCH BAG SUKI  DESIGN \n",
       "6     20719             WOODLAND CHARLOTTE BAG\n",
       "7     20728                LUNCH BAG CARS BLUE\n",
       "8     23206             LUNCH BAG APPLE DESIGN\n",
       "9     20724        RED RETROSPOT CHARLOTTE BAG"
      ]
     },
     "execution_count": 46,
     "metadata": {},
     "output_type": "execute_result"
    }
   ],
   "source": [
    "rec_items(12361, product_train, user_vecs, item_vecs, customers_arr,\n",
    "         products_arr, item_lookup, num_items=10)"
   ]
  },
  {
   "cell_type": "markdown",
   "metadata": {},
   "source": [
    "가방과 점심관련 많은 아이템들이 추천된 것을 확인할 수 있다."
   ]
  },
  {
   "cell_type": "markdown",
   "metadata": {},
   "source": [
    "### Summary"
   ]
  },
  {
   "cell_type": "markdown",
   "metadata": {},
   "source": [
    "- implict feedback으로 추천시스템을 설계, 추천제공, 추천 테스트 하는 방법"
   ]
  },
  {
   "cell_type": "markdown",
   "metadata": {},
   "source": [
    "rating matrix의 크기가 너무 크다면 spark를 사용하는 것도 방법이다\n",
    "만약 추천시스템을 업그레이드 하고 싶다면, 구매 이력과 유저/아이템 정보를 통합하는 하이브리드 시스템이 가장 좋을 것이다.\n"
   ]
  }
 ],
 "metadata": {
  "kernelspec": {
   "display_name": "Python 3",
   "language": "python",
   "name": "python3"
  },
  "language_info": {
   "codemirror_mode": {
    "name": "ipython",
    "version": 3
   },
   "file_extension": ".py",
   "mimetype": "text/x-python",
   "name": "python",
   "nbconvert_exporter": "python",
   "pygments_lexer": "ipython3",
   "version": "3.6.6"
  }
 },
 "nbformat": 4,
 "nbformat_minor": 2
}
